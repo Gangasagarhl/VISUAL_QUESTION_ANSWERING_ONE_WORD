{
 "cells": [
  {
   "cell_type": "code",
   "execution_count": 57,
   "id": "75e2af22",
   "metadata": {},
   "outputs": [],
   "source": [
    "import pandas as pd\n"
   ]
  },
  {
   "cell_type": "code",
   "execution_count": 94,
   "id": "f3313dae",
   "metadata": {},
   "outputs": [
    {
     "name": "stdout",
     "output_type": "stream",
     "text": [
      "(147702, 25)\n",
      "Index(['item_id', 'brand_x', 'item_name', 'color_x', 'product_type_x', 'style',\n",
      "       'image_id', 'country', 'marketplace', 'domain_name', 'node_name',\n",
      "       'description', 'height_x', 'width_x', 'path_x', 'asin', 'brand_y',\n",
      "       'color_y', 'product_type_y', 'height_y', 'width_y', 'path_y', 'height',\n",
      "       'width', 'path'],\n",
      "      dtype='object')\n"
     ]
    },
    {
     "data": {
      "text/html": [
       "<div>\n",
       "<style scoped>\n",
       "    .dataframe tbody tr th:only-of-type {\n",
       "        vertical-align: middle;\n",
       "    }\n",
       "\n",
       "    .dataframe tbody tr th {\n",
       "        vertical-align: top;\n",
       "    }\n",
       "\n",
       "    .dataframe thead th {\n",
       "        text-align: right;\n",
       "    }\n",
       "</style>\n",
       "<table border=\"1\" class=\"dataframe\">\n",
       "  <thead>\n",
       "    <tr style=\"text-align: right;\">\n",
       "      <th></th>\n",
       "      <th>item_id</th>\n",
       "      <th>brand_x</th>\n",
       "      <th>item_name</th>\n",
       "      <th>color_x</th>\n",
       "      <th>product_type_x</th>\n",
       "      <th>style</th>\n",
       "      <th>image_id</th>\n",
       "      <th>country</th>\n",
       "      <th>marketplace</th>\n",
       "      <th>domain_name</th>\n",
       "      <th>...</th>\n",
       "      <th>asin</th>\n",
       "      <th>brand_y</th>\n",
       "      <th>color_y</th>\n",
       "      <th>product_type_y</th>\n",
       "      <th>height_y</th>\n",
       "      <th>width_y</th>\n",
       "      <th>path_y</th>\n",
       "      <th>height</th>\n",
       "      <th>width</th>\n",
       "      <th>path</th>\n",
       "    </tr>\n",
       "  </thead>\n",
       "  <tbody>\n",
       "    <tr>\n",
       "      <th>0</th>\n",
       "      <td>B08541W2YW</td>\n",
       "      <td>Amazon Brand - Solimo</td>\n",
       "      <td>Amazon Brand - Solimo Designer Alone UV Printe...</td>\n",
       "      <td>Multicolor</td>\n",
       "      <td>CELLULAR_PHONE_CASE</td>\n",
       "      <td>NaN</td>\n",
       "      <td>81qMxl2CVIL</td>\n",
       "      <td>IN</td>\n",
       "      <td>Amazon</td>\n",
       "      <td>amazon.in</td>\n",
       "      <td>...</td>\n",
       "      <td>B08541W2YW</td>\n",
       "      <td>Amazon Brand - Solimo</td>\n",
       "      <td>Multicolor</td>\n",
       "      <td>CELLULAR_PHONE_CASE</td>\n",
       "      <td>2200.0</td>\n",
       "      <td>1879.0</td>\n",
       "      <td>e9/e9fd8bc5.jpg</td>\n",
       "      <td>2200.0</td>\n",
       "      <td>1879.0</td>\n",
       "      <td>abo-images-small/images/small/e9/e9fd8bc5.jpg</td>\n",
       "    </tr>\n",
       "    <tr>\n",
       "      <th>1</th>\n",
       "      <td>B08511NXCH</td>\n",
       "      <td>Amazon Brand - Solimo</td>\n",
       "      <td>Amazon Brand - Solimo Designer Multicolor Wax ...</td>\n",
       "      <td>Multicolor</td>\n",
       "      <td>CELLULAR_PHONE_CASE</td>\n",
       "      <td>NaN</td>\n",
       "      <td>81QO6VeWJWL</td>\n",
       "      <td>IN</td>\n",
       "      <td>Amazon</td>\n",
       "      <td>amazon.in</td>\n",
       "      <td>...</td>\n",
       "      <td>B08511NXCH</td>\n",
       "      <td>Amazon Brand - Solimo</td>\n",
       "      <td>Multicolor</td>\n",
       "      <td>CELLULAR_PHONE_CASE</td>\n",
       "      <td>2200.0</td>\n",
       "      <td>1879.0</td>\n",
       "      <td>fa/fabea2b9.jpg</td>\n",
       "      <td>2200.0</td>\n",
       "      <td>1879.0</td>\n",
       "      <td>abo-images-small/images/small/fa/fabea2b9.jpg</td>\n",
       "    </tr>\n",
       "    <tr>\n",
       "      <th>2</th>\n",
       "      <td>B0856B16JB</td>\n",
       "      <td>Amazon Brand - Solimo</td>\n",
       "      <td>Amazon Brand - Solimo Designer Kiss-ing Couple...</td>\n",
       "      <td>Multicolor</td>\n",
       "      <td>CELLULAR_PHONE_CASE</td>\n",
       "      <td>NaN</td>\n",
       "      <td>61NAICfnB6L</td>\n",
       "      <td>IN</td>\n",
       "      <td>Amazon</td>\n",
       "      <td>amazon.in</td>\n",
       "      <td>...</td>\n",
       "      <td>B0856B16JB</td>\n",
       "      <td>Amazon Brand - Solimo</td>\n",
       "      <td>Multicolor</td>\n",
       "      <td>CELLULAR_PHONE_CASE</td>\n",
       "      <td>2200.0</td>\n",
       "      <td>1879.0</td>\n",
       "      <td>3c/3c58a39d.jpg</td>\n",
       "      <td>2200.0</td>\n",
       "      <td>1879.0</td>\n",
       "      <td>abo-images-small/images/small/3c/3c58a39d.jpg</td>\n",
       "    </tr>\n",
       "    <tr>\n",
       "      <th>3</th>\n",
       "      <td>B07T36KGH2</td>\n",
       "      <td>Amazon Brand - Solimo</td>\n",
       "      <td>Amazon Brand - Solimo Designer Love Birds Vect...</td>\n",
       "      <td>Others</td>\n",
       "      <td>CELLULAR_PHONE_CASE</td>\n",
       "      <td>NaN</td>\n",
       "      <td>613w17ik6wL</td>\n",
       "      <td>IN</td>\n",
       "      <td>Amazon</td>\n",
       "      <td>amazon.in</td>\n",
       "      <td>...</td>\n",
       "      <td>B07T36KGH2</td>\n",
       "      <td>Amazon Brand - Solimo</td>\n",
       "      <td>Others</td>\n",
       "      <td>CELLULAR_PHONE_CASE</td>\n",
       "      <td>2200.0</td>\n",
       "      <td>1879.0</td>\n",
       "      <td>f2/f29f33bf.jpg</td>\n",
       "      <td>2200.0</td>\n",
       "      <td>1879.0</td>\n",
       "      <td>abo-images-small/images/small/f2/f29f33bf.jpg</td>\n",
       "    </tr>\n",
       "    <tr>\n",
       "      <th>4</th>\n",
       "      <td>B074J5TWYL</td>\n",
       "      <td>365 by Whole Foods Market</td>\n",
       "      <td>365 Everyday Value, Organic Black Tea (70 Tea ...</td>\n",
       "      <td>NaN</td>\n",
       "      <td>GROCERY</td>\n",
       "      <td>NaN</td>\n",
       "      <td>91rJDoE+k8L</td>\n",
       "      <td>US</td>\n",
       "      <td>AmazonFresh</td>\n",
       "      <td>fresh.amazon.com</td>\n",
       "      <td>...</td>\n",
       "      <td>B074MG9DNW, B074J5TWYL</td>\n",
       "      <td>365 by Whole Foods Market</td>\n",
       "      <td>NaN</td>\n",
       "      <td>GROCERY, TEA</td>\n",
       "      <td>2380.0</td>\n",
       "      <td>2560.0</td>\n",
       "      <td>03/03fde183.jpg</td>\n",
       "      <td>2380.0</td>\n",
       "      <td>2560.0</td>\n",
       "      <td>abo-images-small/images/small/03/03fde183.jpg</td>\n",
       "    </tr>\n",
       "  </tbody>\n",
       "</table>\n",
       "<p>5 rows × 25 columns</p>\n",
       "</div>"
      ],
      "text/plain": [
       "      item_id                    brand_x  \\\n",
       "0  B08541W2YW      Amazon Brand - Solimo   \n",
       "1  B08511NXCH      Amazon Brand - Solimo   \n",
       "2  B0856B16JB      Amazon Brand - Solimo   \n",
       "3  B07T36KGH2      Amazon Brand - Solimo   \n",
       "4  B074J5TWYL  365 by Whole Foods Market   \n",
       "\n",
       "                                           item_name     color_x  \\\n",
       "0  Amazon Brand - Solimo Designer Alone UV Printe...  Multicolor   \n",
       "1  Amazon Brand - Solimo Designer Multicolor Wax ...  Multicolor   \n",
       "2  Amazon Brand - Solimo Designer Kiss-ing Couple...  Multicolor   \n",
       "3  Amazon Brand - Solimo Designer Love Birds Vect...      Others   \n",
       "4  365 Everyday Value, Organic Black Tea (70 Tea ...         NaN   \n",
       "\n",
       "        product_type_x style     image_id country  marketplace  \\\n",
       "0  CELLULAR_PHONE_CASE   NaN  81qMxl2CVIL      IN       Amazon   \n",
       "1  CELLULAR_PHONE_CASE   NaN  81QO6VeWJWL      IN       Amazon   \n",
       "2  CELLULAR_PHONE_CASE   NaN  61NAICfnB6L      IN       Amazon   \n",
       "3  CELLULAR_PHONE_CASE   NaN  613w17ik6wL      IN       Amazon   \n",
       "4              GROCERY   NaN  91rJDoE+k8L      US  AmazonFresh   \n",
       "\n",
       "        domain_name  ...                    asin                    brand_y  \\\n",
       "0         amazon.in  ...              B08541W2YW      Amazon Brand - Solimo   \n",
       "1         amazon.in  ...              B08511NXCH      Amazon Brand - Solimo   \n",
       "2         amazon.in  ...              B0856B16JB      Amazon Brand - Solimo   \n",
       "3         amazon.in  ...              B07T36KGH2      Amazon Brand - Solimo   \n",
       "4  fresh.amazon.com  ...  B074MG9DNW, B074J5TWYL  365 by Whole Foods Market   \n",
       "\n",
       "      color_y       product_type_y height_y width_y           path_y  height  \\\n",
       "0  Multicolor  CELLULAR_PHONE_CASE   2200.0  1879.0  e9/e9fd8bc5.jpg  2200.0   \n",
       "1  Multicolor  CELLULAR_PHONE_CASE   2200.0  1879.0  fa/fabea2b9.jpg  2200.0   \n",
       "2  Multicolor  CELLULAR_PHONE_CASE   2200.0  1879.0  3c/3c58a39d.jpg  2200.0   \n",
       "3      Others  CELLULAR_PHONE_CASE   2200.0  1879.0  f2/f29f33bf.jpg  2200.0   \n",
       "4         NaN         GROCERY, TEA   2380.0  2560.0  03/03fde183.jpg  2380.0   \n",
       "\n",
       "    width                                           path  \n",
       "0  1879.0  abo-images-small/images/small/e9/e9fd8bc5.jpg  \n",
       "1  1879.0  abo-images-small/images/small/fa/fabea2b9.jpg  \n",
       "2  1879.0  abo-images-small/images/small/3c/3c58a39d.jpg  \n",
       "3  1879.0  abo-images-small/images/small/f2/f29f33bf.jpg  \n",
       "4  2560.0  abo-images-small/images/small/03/03fde183.jpg  \n",
       "\n",
       "[5 rows x 25 columns]"
      ]
     },
     "execution_count": 94,
     "metadata": {},
     "output_type": "execute_result"
    }
   ],
   "source": [
    "data1 = pd.read_csv(\"final_ready_to_go.csv\")\n",
    "print(data1.shape)\n",
    "print(data1.columns)\n",
    "data1.head()"
   ]
  },
  {
   "cell_type": "code",
   "execution_count": 95,
   "id": "7bde4797",
   "metadata": {},
   "outputs": [
    {
     "data": {
      "text/plain": [
       "0         abo-images-small/images/small/e9/e9fd8bc5.jpg\n",
       "1         abo-images-small/images/small/fa/fabea2b9.jpg\n",
       "2         abo-images-small/images/small/3c/3c58a39d.jpg\n",
       "3         abo-images-small/images/small/f2/f29f33bf.jpg\n",
       "4         abo-images-small/images/small/03/03fde183.jpg\n",
       "                              ...                      \n",
       "147697    abo-images-small/images/small/04/0447bb9e.jpg\n",
       "147698    abo-images-small/images/small/2f/2f374267.jpg\n",
       "147699    abo-images-small/images/small/11/1110251a.jpg\n",
       "147700    abo-images-small/images/small/a4/a47e361c.jpg\n",
       "147701    abo-images-small/images/small/d9/d999bf51.jpg\n",
       "Name: path, Length: 147702, dtype: object"
      ]
     },
     "execution_count": 95,
     "metadata": {},
     "output_type": "execute_result"
    }
   ],
   "source": [
    "data1['path']"
   ]
  },
  {
   "cell_type": "code",
   "execution_count": null,
   "id": "c1368348",
   "metadata": {},
   "outputs": [],
   "source": []
  },
  {
   "cell_type": "code",
   "execution_count": 59,
   "id": "1f9ebaee",
   "metadata": {},
   "outputs": [],
   "source": [
    "data1 =  pd.read_csv(\"summed_json__flat.csv\")\n",
    "data2 =  pd.read_csv(\"merged_images_listings.csv\")\n",
    "data3 =  pd.read_csv(\"images.csv\")\n"
   ]
  },
  {
   "cell_type": "code",
   "execution_count": 74,
   "id": "f171cb78",
   "metadata": {},
   "outputs": [
    {
     "name": "stdout",
     "output_type": "stream",
     "text": [
      "(710695, 8)\n",
      "(398212, 8)\n"
     ]
    }
   ],
   "source": [
    "import pandas as pd\n",
    "\n",
    "# Load your DataFrame (replace with your actual loading code if needed)\n",
    "# df = pd.read_csv(\"your_file.csv\")\n",
    "\n",
    "# Group by image_id and aggregate other columns by joining unique values\n",
    "print(data2.shape)\n",
    "merged_df = data2.groupby(\"image_id\").agg({\n",
    "    \"height\": \"first\",\n",
    "    \"width\": \"first\",\n",
    "    \"path\": \"first\",\n",
    "    \"asin\": lambda x: \", \".join(x.dropna().unique()),\n",
    "    \"brand\": lambda x: \", \".join(x.dropna().unique()),\n",
    "    \"color\": lambda x: \", \".join(x.dropna().unique()),\n",
    "    \"product_type\": lambda x: \", \".join(x.dropna().unique())\n",
    "}).reset_index()\n",
    "print(merged_df.shape)"
   ]
  },
  {
   "cell_type": "code",
   "execution_count": 76,
   "id": "e71b9293",
   "metadata": {},
   "outputs": [
    {
     "name": "stdout",
     "output_type": "stream",
     "text": [
      "Original shape: (710695, 8)\n",
      "Grouped shape: (398212, 8)\n"
     ]
    }
   ],
   "source": [
    "import pandas as pd\n",
    "\n",
    "# Load your DataFrame (replace with actual loading code if needed)\n",
    "# Example: data2 = pd.read_csv(\"your_file.csv\")\n",
    "\n",
    "# Ensure all necessary columns exist\n",
    "required_columns = [\"image_id\", \"height\", \"width\", \"path\", \"asin\", \"brand\", \"color\", \"product_type\"]\n",
    "data2 = data2[required_columns]\n",
    "\n",
    "# Convert target columns to string type to prevent type issues\n",
    "for col in [\"asin\", \"brand\", \"color\", \"product_type\"]:\n",
    "    data2[col] = data2[col].astype(str)\n",
    "\n",
    "# Group by image_id and aggregate with optimized functions\n",
    "merged_df2 = data2.groupby(\"image_id\").agg({\n",
    "    \"height\": \"first\",            # assuming height is the same for all duplicates\n",
    "    \"width\": \"first\",             # assuming width is the same for all duplicates\n",
    "    \"path\": \"first\",              # assuming path is the same for all duplicates\n",
    "    \"asin\": lambda x: \", \".join(set(x)),\n",
    "    \"brand\": lambda x: \", \".join(set(x)),\n",
    "    \"color\": lambda x: \", \".join(set(x)),\n",
    "    \"product_type\": lambda x: \", \".join(set(x)),\n",
    "}).reset_index()\n",
    "\n",
    "# Show original and merged shape\n",
    "print(\"Original shape:\", data2.shape)\n",
    "print(\"Grouped shape:\", merged_df2.shape)\n",
    "\n",
    "# Optional: Save to CSV\n",
    "# merged_df.to_csv(\"merged_output.csv\", index=False)\n"
   ]
  },
  {
   "cell_type": "code",
   "execution_count": 78,
   "id": "2c16708e",
   "metadata": {},
   "outputs": [
    {
     "name": "stdout",
     "output_type": "stream",
     "text": [
      "merged_df shape: (398212, 8)\n",
      "data3 shape: (398212, 4)\n",
      "final_df shape: (398212, 11)\n"
     ]
    }
   ],
   "source": [
    "final_df = pd.merge(merged_df, data3, how='left', on='image_id')\n",
    "\n",
    "print(\"merged_df shape:\", merged_df.shape)\n",
    "print(\"data3 shape:\", data3.shape)\n",
    "print(\"final_df shape:\", final_df.shape)\n"
   ]
  },
  {
   "cell_type": "code",
   "execution_count": null,
   "id": "a7223244",
   "metadata": {},
   "outputs": [],
   "source": []
  },
  {
   "cell_type": "code",
   "execution_count": 83,
   "id": "c659049e",
   "metadata": {},
   "outputs": [
    {
     "name": "stdout",
     "output_type": "stream",
     "text": [
      "(398212, 11) (147702, 12)\n",
      "(147702, 22)\n"
     ]
    }
   ],
   "source": [
    "print(final_df.shape,data1.shape)\n",
    "final_csv = pd.merge(data1, final_df,how='left',on='image_id')\n",
    "print(final_csv.shape)\n",
    "\n"
   ]
  },
  {
   "cell_type": "code",
   "execution_count": 85,
   "id": "bf8d8366",
   "metadata": {},
   "outputs": [
    {
     "data": {
      "text/plain": [
       "Index(['item_id', 'brand_x', 'item_name', 'color_x', 'product_type_x', 'style',\n",
       "       'image_id', 'country', 'marketplace', 'domain_name', 'node_name',\n",
       "       'description', 'height_x', 'width_x', 'path_x', 'asin', 'brand_y',\n",
       "       'color_y', 'product_type_y', 'height_y', 'width_y', 'path_y'],\n",
       "      dtype='object')"
      ]
     },
     "execution_count": 85,
     "metadata": {},
     "output_type": "execute_result"
    }
   ],
   "source": [
    "final_csv.columns"
   ]
  },
  {
   "cell_type": "code",
   "execution_count": 86,
   "id": "c4990217",
   "metadata": {},
   "outputs": [
    {
     "data": {
      "text/plain": [
       "0         Snug fit for Samsung Galaxy M20, with perfect ...\n",
       "1         Snug fit for Samsung Galaxy M21, with perfect ...\n",
       "2         Snug fit for Oppo A91, with perfect cut-outs f...\n",
       "3         3D Printed Hard Back Case Mobile Cover for Len...\n",
       "4         Brought to you by Whole Foods Market.  The pac...\n",
       "                                ...                        \n",
       "147697    3D Printed Hard Back Case Mobile Cover for Mic...\n",
       "147698                                                  NaN\n",
       "147699                                                  NaN\n",
       "147700    Adds a colorful design element to your child's...\n",
       "147701    Set includes 2 standard-size pillowcases; made...\n",
       "Name: description, Length: 147702, dtype: object"
      ]
     },
     "execution_count": 86,
     "metadata": {},
     "output_type": "execute_result"
    }
   ],
   "source": [
    "final_csv['description']"
   ]
  },
  {
   "cell_type": "code",
   "execution_count": 87,
   "id": "4f1a05c1",
   "metadata": {},
   "outputs": [
    {
     "data": {
      "text/plain": [
       "0         81qMxl2CVIL\n",
       "1         81QO6VeWJWL\n",
       "2         61NAICfnB6L\n",
       "3         613w17ik6wL\n",
       "4         91rJDoE+k8L\n",
       "             ...     \n",
       "147697    71UKgLZ+kuL\n",
       "147698    719hbtWeTDL\n",
       "147699    61TS4ISi1vL\n",
       "147700    81DUhoIIZjL\n",
       "147701    81pMc4G8VaS\n",
       "Name: image_id, Length: 147702, dtype: object"
      ]
     },
     "execution_count": 87,
     "metadata": {},
     "output_type": "execute_result"
    }
   ],
   "source": [
    "final_csv['image_id']"
   ]
  },
  {
   "cell_type": "code",
   "execution_count": 89,
   "id": "abea4f21",
   "metadata": {},
   "outputs": [
    {
     "data": {
      "text/plain": [
       "Index(['item_id', 'brand_x', 'item_name', 'color_x', 'product_type_x', 'style',\n",
       "       'image_id', 'country', 'marketplace', 'domain_name', 'node_name',\n",
       "       'description', 'height_x', 'width_x', 'path_x', 'asin', 'brand_y',\n",
       "       'color_y', 'product_type_y', 'height_y', 'width_y', 'path_y'],\n",
       "      dtype='object')"
      ]
     },
     "execution_count": 89,
     "metadata": {},
     "output_type": "execute_result"
    }
   ],
   "source": [
    "final_csv.columns"
   ]
  },
  {
   "cell_type": "code",
   "execution_count": 92,
   "id": "8efdd212",
   "metadata": {},
   "outputs": [],
   "source": [
    "final_csv['path']=\"abo-images-small/images/small/\"+final_csv['path_y']"
   ]
  },
  {
   "cell_type": "code",
   "execution_count": 93,
   "id": "1b347883",
   "metadata": {},
   "outputs": [],
   "source": [
    "final_csv.to_csv(\"check.csv\",index=False)"
   ]
  },
  {
   "cell_type": "code",
   "execution_count": null,
   "id": "fb728d06",
   "metadata": {},
   "outputs": [],
   "source": []
  },
  {
   "cell_type": "code",
   "execution_count": null,
   "metadata": {},
   "outputs": [],
   "source": []
  },
  {
   "cell_type": "code",
   "execution_count": null,
   "id": "91e15a44",
   "metadata": {},
   "outputs": [],
   "source": []
  },
  {
   "cell_type": "code",
   "execution_count": null,
   "id": "0bd03381",
   "metadata": {},
   "outputs": [],
   "source": []
  },
  {
   "cell_type": "code",
   "execution_count": 81,
   "id": "0f08b154",
   "metadata": {},
   "outputs": [
    {
     "data": {
      "text/html": [
       "<div>\n",
       "<style scoped>\n",
       "    .dataframe tbody tr th:only-of-type {\n",
       "        vertical-align: middle;\n",
       "    }\n",
       "\n",
       "    .dataframe tbody tr th {\n",
       "        vertical-align: top;\n",
       "    }\n",
       "\n",
       "    .dataframe thead th {\n",
       "        text-align: right;\n",
       "    }\n",
       "</style>\n",
       "<table border=\"1\" class=\"dataframe\">\n",
       "  <thead>\n",
       "    <tr style=\"text-align: right;\">\n",
       "      <th></th>\n",
       "      <th>image_id</th>\n",
       "      <th>height</th>\n",
       "      <th>width</th>\n",
       "      <th>path</th>\n",
       "      <th>asin</th>\n",
       "      <th>brand</th>\n",
       "      <th>color</th>\n",
       "      <th>product_type</th>\n",
       "    </tr>\n",
       "  </thead>\n",
       "  <tbody>\n",
       "    <tr>\n",
       "      <th>0</th>\n",
       "      <td>010-mllS7JL</td>\n",
       "      <td>106</td>\n",
       "      <td>106</td>\n",
       "      <td>14/14fe8812.jpg</td>\n",
       "      <td>B07Y7M8LV7</td>\n",
       "      <td>UMI</td>\n",
       "      <td></td>\n",
       "      <td>KITCHEN</td>\n",
       "    </tr>\n",
       "    <tr>\n",
       "      <th>1</th>\n",
       "      <td>01dkn0Gyx0L</td>\n",
       "      <td>122</td>\n",
       "      <td>122</td>\n",
       "      <td>da/daab0cad.jpg</td>\n",
       "      <td>B07Y7M4JZ2</td>\n",
       "      <td>UMI</td>\n",
       "      <td></td>\n",
       "      <td>KITCHEN</td>\n",
       "    </tr>\n",
       "    <tr>\n",
       "      <th>2</th>\n",
       "      <td>01sUPg0387L</td>\n",
       "      <td>111</td>\n",
       "      <td>111</td>\n",
       "      <td>d2/d2daaae9.jpg</td>\n",
       "      <td>B07ZTFRVTT</td>\n",
       "      <td>UMI</td>\n",
       "      <td></td>\n",
       "      <td>KITCHEN</td>\n",
       "    </tr>\n",
       "    <tr>\n",
       "      <th>3</th>\n",
       "      <td>1168jc-5r1L</td>\n",
       "      <td>186</td>\n",
       "      <td>186</td>\n",
       "      <td>3a/3a4e88e6.jpg</td>\n",
       "      <td>B07ZTFC41S</td>\n",
       "      <td>UMI</td>\n",
       "      <td></td>\n",
       "      <td>KITCHEN</td>\n",
       "    </tr>\n",
       "    <tr>\n",
       "      <th>4</th>\n",
       "      <td>11RUV5Fs65L</td>\n",
       "      <td>30</td>\n",
       "      <td>500</td>\n",
       "      <td>d9/d91ab9cf.jpg</td>\n",
       "      <td>B07CMMZT7R</td>\n",
       "      <td>Solimo</td>\n",
       "      <td></td>\n",
       "      <td>GROCERY</td>\n",
       "    </tr>\n",
       "  </tbody>\n",
       "</table>\n",
       "</div>"
      ],
      "text/plain": [
       "      image_id  height  width             path        asin   brand color  \\\n",
       "0  010-mllS7JL     106    106  14/14fe8812.jpg  B07Y7M8LV7     UMI         \n",
       "1  01dkn0Gyx0L     122    122  da/daab0cad.jpg  B07Y7M4JZ2     UMI         \n",
       "2  01sUPg0387L     111    111  d2/d2daaae9.jpg  B07ZTFRVTT     UMI         \n",
       "3  1168jc-5r1L     186    186  3a/3a4e88e6.jpg  B07ZTFC41S     UMI         \n",
       "4  11RUV5Fs65L      30    500  d9/d91ab9cf.jpg  B07CMMZT7R  Solimo         \n",
       "\n",
       "  product_type  \n",
       "0      KITCHEN  \n",
       "1      KITCHEN  \n",
       "2      KITCHEN  \n",
       "3      KITCHEN  \n",
       "4      GROCERY  "
      ]
     },
     "execution_count": 81,
     "metadata": {},
     "output_type": "execute_result"
    }
   ],
   "source": [
    "merged_df.head()"
   ]
  },
  {
   "cell_type": "code",
   "execution_count": 79,
   "id": "dd381570",
   "metadata": {},
   "outputs": [
    {
     "data": {
      "text/html": [
       "<div>\n",
       "<style scoped>\n",
       "    .dataframe tbody tr th:only-of-type {\n",
       "        vertical-align: middle;\n",
       "    }\n",
       "\n",
       "    .dataframe tbody tr th {\n",
       "        vertical-align: top;\n",
       "    }\n",
       "\n",
       "    .dataframe thead th {\n",
       "        text-align: right;\n",
       "    }\n",
       "</style>\n",
       "<table border=\"1\" class=\"dataframe\">\n",
       "  <thead>\n",
       "    <tr style=\"text-align: right;\">\n",
       "      <th></th>\n",
       "      <th>image_id</th>\n",
       "      <th>height_x</th>\n",
       "      <th>width_x</th>\n",
       "      <th>path_x</th>\n",
       "      <th>asin</th>\n",
       "      <th>brand</th>\n",
       "      <th>color</th>\n",
       "      <th>product_type</th>\n",
       "      <th>height_y</th>\n",
       "      <th>width_y</th>\n",
       "      <th>path_y</th>\n",
       "    </tr>\n",
       "  </thead>\n",
       "  <tbody>\n",
       "    <tr>\n",
       "      <th>0</th>\n",
       "      <td>010-mllS7JL</td>\n",
       "      <td>106</td>\n",
       "      <td>106</td>\n",
       "      <td>14/14fe8812.jpg</td>\n",
       "      <td>B07Y7M8LV7</td>\n",
       "      <td>UMI</td>\n",
       "      <td></td>\n",
       "      <td>KITCHEN</td>\n",
       "      <td>106</td>\n",
       "      <td>106</td>\n",
       "      <td>14/14fe8812.jpg</td>\n",
       "    </tr>\n",
       "    <tr>\n",
       "      <th>1</th>\n",
       "      <td>01dkn0Gyx0L</td>\n",
       "      <td>122</td>\n",
       "      <td>122</td>\n",
       "      <td>da/daab0cad.jpg</td>\n",
       "      <td>B07Y7M4JZ2</td>\n",
       "      <td>UMI</td>\n",
       "      <td></td>\n",
       "      <td>KITCHEN</td>\n",
       "      <td>122</td>\n",
       "      <td>122</td>\n",
       "      <td>da/daab0cad.jpg</td>\n",
       "    </tr>\n",
       "    <tr>\n",
       "      <th>2</th>\n",
       "      <td>01sUPg0387L</td>\n",
       "      <td>111</td>\n",
       "      <td>111</td>\n",
       "      <td>d2/d2daaae9.jpg</td>\n",
       "      <td>B07ZTFRVTT</td>\n",
       "      <td>UMI</td>\n",
       "      <td></td>\n",
       "      <td>KITCHEN</td>\n",
       "      <td>111</td>\n",
       "      <td>111</td>\n",
       "      <td>d2/d2daaae9.jpg</td>\n",
       "    </tr>\n",
       "    <tr>\n",
       "      <th>3</th>\n",
       "      <td>1168jc-5r1L</td>\n",
       "      <td>186</td>\n",
       "      <td>186</td>\n",
       "      <td>3a/3a4e88e6.jpg</td>\n",
       "      <td>B07ZTFC41S</td>\n",
       "      <td>UMI</td>\n",
       "      <td></td>\n",
       "      <td>KITCHEN</td>\n",
       "      <td>186</td>\n",
       "      <td>186</td>\n",
       "      <td>3a/3a4e88e6.jpg</td>\n",
       "    </tr>\n",
       "    <tr>\n",
       "      <th>4</th>\n",
       "      <td>11RUV5Fs65L</td>\n",
       "      <td>30</td>\n",
       "      <td>500</td>\n",
       "      <td>d9/d91ab9cf.jpg</td>\n",
       "      <td>B07CMMZT7R</td>\n",
       "      <td>Solimo</td>\n",
       "      <td></td>\n",
       "      <td>GROCERY</td>\n",
       "      <td>30</td>\n",
       "      <td>500</td>\n",
       "      <td>d9/d91ab9cf.jpg</td>\n",
       "    </tr>\n",
       "  </tbody>\n",
       "</table>\n",
       "</div>"
      ],
      "text/plain": [
       "      image_id  height_x  width_x           path_x        asin   brand color  \\\n",
       "0  010-mllS7JL       106      106  14/14fe8812.jpg  B07Y7M8LV7     UMI         \n",
       "1  01dkn0Gyx0L       122      122  da/daab0cad.jpg  B07Y7M4JZ2     UMI         \n",
       "2  01sUPg0387L       111      111  d2/d2daaae9.jpg  B07ZTFRVTT     UMI         \n",
       "3  1168jc-5r1L       186      186  3a/3a4e88e6.jpg  B07ZTFC41S     UMI         \n",
       "4  11RUV5Fs65L        30      500  d9/d91ab9cf.jpg  B07CMMZT7R  Solimo         \n",
       "\n",
       "  product_type  height_y  width_y           path_y  \n",
       "0      KITCHEN       106      106  14/14fe8812.jpg  \n",
       "1      KITCHEN       122      122  da/daab0cad.jpg  \n",
       "2      KITCHEN       111      111  d2/d2daaae9.jpg  \n",
       "3      KITCHEN       186      186  3a/3a4e88e6.jpg  \n",
       "4      GROCERY        30      500  d9/d91ab9cf.jpg  "
      ]
     },
     "execution_count": 79,
     "metadata": {},
     "output_type": "execute_result"
    }
   ],
   "source": [
    "final_df.head()"
   ]
  },
  {
   "cell_type": "code",
   "execution_count": 75,
   "id": "21788594",
   "metadata": {},
   "outputs": [],
   "source": [
    "datan =  merged_df.copy()"
   ]
  },
  {
   "cell_type": "code",
   "execution_count": null,
   "id": "36ea9d12",
   "metadata": {},
   "outputs": [],
   "source": [
    "merged_df = pd.merge(data1, datan, how='left', on='image_id')\n",
    "merged_df.head()"
   ]
  },
  {
   "cell_type": "code",
   "execution_count": 64,
   "id": "568256a7",
   "metadata": {},
   "outputs": [
    {
     "data": {
      "text/plain": [
       "Index(['item_id', 'brand', 'item_name', 'color', 'product_type', 'style',\n",
       "       'main_image_id', 'country', 'marketplace', 'domain_name', 'node_name',\n",
       "       'description'],\n",
       "      dtype='object')"
      ]
     },
     "execution_count": 64,
     "metadata": {},
     "output_type": "execute_result"
    }
   ],
   "source": [
    "data1.columns"
   ]
  },
  {
   "cell_type": "code",
   "execution_count": 65,
   "id": "d8da895d",
   "metadata": {},
   "outputs": [
    {
     "data": {
      "text/plain": [
       "Index(['item_id', 'brand', 'item_name', 'color', 'product_type', 'style',\n",
       "       'image_id', 'country', 'marketplace', 'domain_name', 'node_name',\n",
       "       'description'],\n",
       "      dtype='object')"
      ]
     },
     "execution_count": 65,
     "metadata": {},
     "output_type": "execute_result"
    }
   ],
   "source": [
    "data1.rename(columns={'main_image_id': \"image_id\"}, inplace=True)\n",
    "data1.columns"
   ]
  },
  {
   "cell_type": "code",
   "execution_count": 68,
   "id": "02806195",
   "metadata": {},
   "outputs": [
    {
     "data": {
      "text/plain": [
       "((147702, 12), (710695, 8))"
      ]
     },
     "execution_count": 68,
     "metadata": {},
     "output_type": "execute_result"
    }
   ],
   "source": [
    "data1.shape, data2.shape"
   ]
  },
  {
   "cell_type": "code",
   "execution_count": 73,
   "id": "df6a5fad",
   "metadata": {},
   "outputs": [
    {
     "data": {
      "text/html": [
       "<div>\n",
       "<style scoped>\n",
       "    .dataframe tbody tr th:only-of-type {\n",
       "        vertical-align: middle;\n",
       "    }\n",
       "\n",
       "    .dataframe tbody tr th {\n",
       "        vertical-align: top;\n",
       "    }\n",
       "\n",
       "    .dataframe thead th {\n",
       "        text-align: right;\n",
       "    }\n",
       "</style>\n",
       "<table border=\"1\" class=\"dataframe\">\n",
       "  <thead>\n",
       "    <tr style=\"text-align: right;\">\n",
       "      <th></th>\n",
       "      <th>image_id</th>\n",
       "      <th>height</th>\n",
       "      <th>width</th>\n",
       "      <th>path</th>\n",
       "      <th>asin</th>\n",
       "      <th>brand</th>\n",
       "      <th>color</th>\n",
       "      <th>product_type</th>\n",
       "    </tr>\n",
       "  </thead>\n",
       "  <tbody>\n",
       "    <tr>\n",
       "      <th>710689</th>\n",
       "      <td>B1zv8OpTkBS</td>\n",
       "      <td>2560</td>\n",
       "      <td>2560</td>\n",
       "      <td>6d/6d49d130.jpg</td>\n",
       "      <td>B07CRLJ2MS</td>\n",
       "      <td>Rivet</td>\n",
       "      <td>NaN</td>\n",
       "      <td>HOME_FURNITURE_AND_DECOR</td>\n",
       "    </tr>\n",
       "    <tr>\n",
       "      <th>710690</th>\n",
       "      <td>B1zv8OpTkBS</td>\n",
       "      <td>2560</td>\n",
       "      <td>2560</td>\n",
       "      <td>6d/6d49d130.jpg</td>\n",
       "      <td>B07B4M6CN1</td>\n",
       "      <td>Rivet</td>\n",
       "      <td>그레이</td>\n",
       "      <td>SOFA</td>\n",
       "    </tr>\n",
       "  </tbody>\n",
       "</table>\n",
       "</div>"
      ],
      "text/plain": [
       "           image_id  height  width             path        asin  brand color  \\\n",
       "710689  B1zv8OpTkBS    2560   2560  6d/6d49d130.jpg  B07CRLJ2MS  Rivet   NaN   \n",
       "710690  B1zv8OpTkBS    2560   2560  6d/6d49d130.jpg  B07B4M6CN1  Rivet   그레이   \n",
       "\n",
       "                    product_type  \n",
       "710689  HOME_FURNITURE_AND_DECOR  \n",
       "710690                      SOFA  "
      ]
     },
     "execution_count": 73,
     "metadata": {},
     "output_type": "execute_result"
    }
   ],
   "source": [
    "\n",
    "data2[data2['image_id']==\"B1zv8OpTkBS\"]"
   ]
  },
  {
   "cell_type": "code",
   "execution_count": 66,
   "id": "92f9d22a",
   "metadata": {},
   "outputs": [
    {
     "data": {
      "text/html": [
       "<div>\n",
       "<style scoped>\n",
       "    .dataframe tbody tr th:only-of-type {\n",
       "        vertical-align: middle;\n",
       "    }\n",
       "\n",
       "    .dataframe tbody tr th {\n",
       "        vertical-align: top;\n",
       "    }\n",
       "\n",
       "    .dataframe thead th {\n",
       "        text-align: right;\n",
       "    }\n",
       "</style>\n",
       "<table border=\"1\" class=\"dataframe\">\n",
       "  <thead>\n",
       "    <tr style=\"text-align: right;\">\n",
       "      <th></th>\n",
       "      <th>item_id</th>\n",
       "      <th>brand_x</th>\n",
       "      <th>item_name</th>\n",
       "      <th>color_x</th>\n",
       "      <th>product_type_x</th>\n",
       "      <th>style</th>\n",
       "      <th>image_id</th>\n",
       "      <th>country</th>\n",
       "      <th>marketplace</th>\n",
       "      <th>domain_name</th>\n",
       "      <th>node_name</th>\n",
       "      <th>description</th>\n",
       "      <th>height</th>\n",
       "      <th>width</th>\n",
       "      <th>path</th>\n",
       "      <th>asin</th>\n",
       "      <th>brand_y</th>\n",
       "      <th>color_y</th>\n",
       "      <th>product_type_y</th>\n",
       "    </tr>\n",
       "  </thead>\n",
       "  <tbody>\n",
       "    <tr>\n",
       "      <th>0</th>\n",
       "      <td>B08541W2YW</td>\n",
       "      <td>Amazon Brand - Solimo</td>\n",
       "      <td>Amazon Brand - Solimo Designer Alone UV Printe...</td>\n",
       "      <td>Multicolor</td>\n",
       "      <td>CELLULAR_PHONE_CASE</td>\n",
       "      <td>NaN</td>\n",
       "      <td>81qMxl2CVIL</td>\n",
       "      <td>IN</td>\n",
       "      <td>Amazon</td>\n",
       "      <td>amazon.in</td>\n",
       "      <td>/Categories/Mobiles &amp; Accessories/Mobile Acces...</td>\n",
       "      <td>Snug fit for Samsung Galaxy M20, with perfect ...</td>\n",
       "      <td>2200.0</td>\n",
       "      <td>1879.0</td>\n",
       "      <td>e9/e9fd8bc5.jpg</td>\n",
       "      <td>B08541W2YW</td>\n",
       "      <td>Amazon Brand - Solimo</td>\n",
       "      <td>Multicolor</td>\n",
       "      <td>CELLULAR_PHONE_CASE</td>\n",
       "    </tr>\n",
       "    <tr>\n",
       "      <th>1</th>\n",
       "      <td>B08511NXCH</td>\n",
       "      <td>Amazon Brand - Solimo</td>\n",
       "      <td>Amazon Brand - Solimo Designer Multicolor Wax ...</td>\n",
       "      <td>Multicolor</td>\n",
       "      <td>CELLULAR_PHONE_CASE</td>\n",
       "      <td>NaN</td>\n",
       "      <td>81QO6VeWJWL</td>\n",
       "      <td>IN</td>\n",
       "      <td>Amazon</td>\n",
       "      <td>amazon.in</td>\n",
       "      <td>/Categories/Mobiles &amp; Accessories/Mobile Acces...</td>\n",
       "      <td>Snug fit for Samsung Galaxy M21, with perfect ...</td>\n",
       "      <td>2200.0</td>\n",
       "      <td>1879.0</td>\n",
       "      <td>fa/fabea2b9.jpg</td>\n",
       "      <td>B08511NXCH</td>\n",
       "      <td>Amazon Brand - Solimo</td>\n",
       "      <td>Multicolor</td>\n",
       "      <td>CELLULAR_PHONE_CASE</td>\n",
       "    </tr>\n",
       "    <tr>\n",
       "      <th>2</th>\n",
       "      <td>B0856B16JB</td>\n",
       "      <td>Amazon Brand - Solimo</td>\n",
       "      <td>Amazon Brand - Solimo Designer Kiss-ing Couple...</td>\n",
       "      <td>Multicolor</td>\n",
       "      <td>CELLULAR_PHONE_CASE</td>\n",
       "      <td>NaN</td>\n",
       "      <td>61NAICfnB6L</td>\n",
       "      <td>IN</td>\n",
       "      <td>Amazon</td>\n",
       "      <td>amazon.in</td>\n",
       "      <td>/Categories/Mobiles &amp; Accessories/Mobile Acces...</td>\n",
       "      <td>Snug fit for Oppo A91, with perfect cut-outs f...</td>\n",
       "      <td>2200.0</td>\n",
       "      <td>1879.0</td>\n",
       "      <td>3c/3c58a39d.jpg</td>\n",
       "      <td>B0856B16JB</td>\n",
       "      <td>Amazon Brand - Solimo</td>\n",
       "      <td>Multicolor</td>\n",
       "      <td>CELLULAR_PHONE_CASE</td>\n",
       "    </tr>\n",
       "    <tr>\n",
       "      <th>3</th>\n",
       "      <td>B07T36KGH2</td>\n",
       "      <td>Amazon Brand - Solimo</td>\n",
       "      <td>Amazon Brand - Solimo Designer Love Birds Vect...</td>\n",
       "      <td>Others</td>\n",
       "      <td>CELLULAR_PHONE_CASE</td>\n",
       "      <td>NaN</td>\n",
       "      <td>613w17ik6wL</td>\n",
       "      <td>IN</td>\n",
       "      <td>Amazon</td>\n",
       "      <td>amazon.in</td>\n",
       "      <td>/Categories/Mobiles &amp; Accessories/Mobile Acces...</td>\n",
       "      <td>3D Printed Hard Back Case Mobile Cover for Len...</td>\n",
       "      <td>2200.0</td>\n",
       "      <td>1879.0</td>\n",
       "      <td>f2/f29f33bf.jpg</td>\n",
       "      <td>B07T36KGH2</td>\n",
       "      <td>Amazon Brand - Solimo</td>\n",
       "      <td>Others</td>\n",
       "      <td>CELLULAR_PHONE_CASE</td>\n",
       "    </tr>\n",
       "    <tr>\n",
       "      <th>4</th>\n",
       "      <td>B074J5TWYL</td>\n",
       "      <td>365 by Whole Foods Market</td>\n",
       "      <td>365 Everyday Value, Organic Black Tea (70 Tea ...</td>\n",
       "      <td>NaN</td>\n",
       "      <td>GROCERY</td>\n",
       "      <td>NaN</td>\n",
       "      <td>91rJDoE+k8L</td>\n",
       "      <td>US</td>\n",
       "      <td>AmazonFresh</td>\n",
       "      <td>fresh.amazon.com</td>\n",
       "      <td>/Categories/Beverages/Coffee, Tea &amp; Cocoa/Tea/...</td>\n",
       "      <td>Brought to you by Whole Foods Market.  The pac...</td>\n",
       "      <td>2380.0</td>\n",
       "      <td>2560.0</td>\n",
       "      <td>03/03fde183.jpg</td>\n",
       "      <td>B074J5TWYL</td>\n",
       "      <td>365 by Whole Foods Market</td>\n",
       "      <td>NaN</td>\n",
       "      <td>GROCERY</td>\n",
       "    </tr>\n",
       "  </tbody>\n",
       "</table>\n",
       "</div>"
      ],
      "text/plain": [
       "      item_id                    brand_x  \\\n",
       "0  B08541W2YW      Amazon Brand - Solimo   \n",
       "1  B08511NXCH      Amazon Brand - Solimo   \n",
       "2  B0856B16JB      Amazon Brand - Solimo   \n",
       "3  B07T36KGH2      Amazon Brand - Solimo   \n",
       "4  B074J5TWYL  365 by Whole Foods Market   \n",
       "\n",
       "                                           item_name     color_x  \\\n",
       "0  Amazon Brand - Solimo Designer Alone UV Printe...  Multicolor   \n",
       "1  Amazon Brand - Solimo Designer Multicolor Wax ...  Multicolor   \n",
       "2  Amazon Brand - Solimo Designer Kiss-ing Couple...  Multicolor   \n",
       "3  Amazon Brand - Solimo Designer Love Birds Vect...      Others   \n",
       "4  365 Everyday Value, Organic Black Tea (70 Tea ...         NaN   \n",
       "\n",
       "        product_type_x style     image_id country  marketplace  \\\n",
       "0  CELLULAR_PHONE_CASE   NaN  81qMxl2CVIL      IN       Amazon   \n",
       "1  CELLULAR_PHONE_CASE   NaN  81QO6VeWJWL      IN       Amazon   \n",
       "2  CELLULAR_PHONE_CASE   NaN  61NAICfnB6L      IN       Amazon   \n",
       "3  CELLULAR_PHONE_CASE   NaN  613w17ik6wL      IN       Amazon   \n",
       "4              GROCERY   NaN  91rJDoE+k8L      US  AmazonFresh   \n",
       "\n",
       "        domain_name                                          node_name  \\\n",
       "0         amazon.in  /Categories/Mobiles & Accessories/Mobile Acces...   \n",
       "1         amazon.in  /Categories/Mobiles & Accessories/Mobile Acces...   \n",
       "2         amazon.in  /Categories/Mobiles & Accessories/Mobile Acces...   \n",
       "3         amazon.in  /Categories/Mobiles & Accessories/Mobile Acces...   \n",
       "4  fresh.amazon.com  /Categories/Beverages/Coffee, Tea & Cocoa/Tea/...   \n",
       "\n",
       "                                         description  height   width  \\\n",
       "0  Snug fit for Samsung Galaxy M20, with perfect ...  2200.0  1879.0   \n",
       "1  Snug fit for Samsung Galaxy M21, with perfect ...  2200.0  1879.0   \n",
       "2  Snug fit for Oppo A91, with perfect cut-outs f...  2200.0  1879.0   \n",
       "3  3D Printed Hard Back Case Mobile Cover for Len...  2200.0  1879.0   \n",
       "4  Brought to you by Whole Foods Market.  The pac...  2380.0  2560.0   \n",
       "\n",
       "              path        asin                    brand_y     color_y  \\\n",
       "0  e9/e9fd8bc5.jpg  B08541W2YW      Amazon Brand - Solimo  Multicolor   \n",
       "1  fa/fabea2b9.jpg  B08511NXCH      Amazon Brand - Solimo  Multicolor   \n",
       "2  3c/3c58a39d.jpg  B0856B16JB      Amazon Brand - Solimo  Multicolor   \n",
       "3  f2/f29f33bf.jpg  B07T36KGH2      Amazon Brand - Solimo      Others   \n",
       "4  03/03fde183.jpg  B074J5TWYL  365 by Whole Foods Market         NaN   \n",
       "\n",
       "        product_type_y  \n",
       "0  CELLULAR_PHONE_CASE  \n",
       "1  CELLULAR_PHONE_CASE  \n",
       "2  CELLULAR_PHONE_CASE  \n",
       "3  CELLULAR_PHONE_CASE  \n",
       "4              GROCERY  "
      ]
     },
     "execution_count": 66,
     "metadata": {},
     "output_type": "execute_result"
    }
   ],
   "source": [
    "merged_df = pd.merge(data1, data2, how='left', on='image_id')\n",
    "merged_df.head()"
   ]
  },
  {
   "cell_type": "code",
   "execution_count": 67,
   "id": "00c2014d",
   "metadata": {},
   "outputs": [
    {
     "data": {
      "text/plain": [
       "(1007763, 19)"
      ]
     },
     "execution_count": 67,
     "metadata": {},
     "output_type": "execute_result"
    }
   ],
   "source": [
    "merged_df.shape"
   ]
  },
  {
   "cell_type": "code",
   "execution_count": null,
   "id": "08979879",
   "metadata": {},
   "outputs": [],
   "source": [
    "merged_df.to_csv(\"csv_combined\")"
   ]
  },
  {
   "cell_type": "code",
   "execution_count": 62,
   "id": "14bc4e88",
   "metadata": {},
   "outputs": [
    {
     "name": "stdout",
     "output_type": "stream",
     "text": [
      "Snug fit for Samsung Galaxy M20, with perfect cut-outs for volume buttons, audio and charging ports Compatible with Samsung Galaxy M20 Easy to put & take off with perfect cutouts for volume buttons, audio & charging ports. Stylish design and appearance, express your unique personality. Extreme precision design allows easy access to all buttons and ports while featuring raised bezel to life screen and camera off flat surface.\n",
      "Snug fit for Samsung Galaxy M21, with perfect cut-outs for volume buttons, audio and charging ports Compatible with Samsung Galaxy M21 Easy to put & take off with perfect cutouts for volume buttons, audio & charging ports. Stylish design and appearance, express your unique personality. Extreme precision design allows easy access to all buttons and ports while featuring raised bezel to life screen and camera off flat surface.\n",
      "Snug fit for Oppo A91, with perfect cut-outs for volume buttons, audio and charging ports Compatible with Oppo A91 Easy to put & take off with perfect cutouts for volume buttons, audio & charging ports. Stylish design and appearance, express your unique personality. Extreme precision design allows easy access to all buttons and ports while featuring raised bezel to life screen and camera off flat surface.\n",
      "3D Printed Hard Back Case Mobile Cover for Lenovo A2010 Easy to put & take off with perfect cutouts for volume buttons, audio & charging ports. Stylish design and appearance, express your unique personality. Extreme precision design allows easy access to all buttons and ports while featuring raised bezel to life screen and camera off flat surface. Slim Hard Back Cover No Warranty\n",
      "Brought to you by Whole Foods Market.  The packaging for this product has a fresh new look. During this transition, you may get the original packaging or the new packaging in your order, but the product and quality is staying exactly the same. Enjoy! Tea is the second most consumed beverage on the planet after water. That's why we select the freshest, organically-grown teas from estates around the globe to create an ideal blend for your everyday tea enjoyment. Robust, lively and rich, our organic black tea blend is a natural source of protective antioxidants. Some research suggests the antioxidants found in tea contribute to good health by neutralizing 'free radicals' within the body which damage cell health. Drink to your health - naturally! Certified Organic, Certified Kosher.\n"
     ]
    }
   ],
   "source": [
    "for i in data1.head()['description']:\n",
    "    print(i)"
   ]
  },
  {
   "cell_type": "code",
   "execution_count": null,
   "id": "a589fad2",
   "metadata": {},
   "outputs": [],
   "source": []
  },
  {
   "cell_type": "code",
   "execution_count": null,
   "id": "41dd6099",
   "metadata": {},
   "outputs": [],
   "source": [
    "merged_df = pd.merge(data1, data, how='left', on='image_id')\n"
   ]
  },
  {
   "cell_type": "code",
   "execution_count": null,
   "id": "7423fb22",
   "metadata": {},
   "outputs": [
    {
     "name": "stdout",
     "output_type": "stream",
     "text": [
      "(147702, 11) (710695, 8) (398212, 4)\n"
     ]
    }
   ],
   "source": [
    "print(data1.shape,data2.shape,data3.shape)"
   ]
  },
  {
   "cell_type": "code",
   "execution_count": null,
   "id": "1433b801",
   "metadata": {},
   "outputs": [
    {
     "name": "stdout",
     "output_type": "stream",
     "text": [
      "(147702, 11) (710695, 8) (398212, 4)\n",
      "Data 1 columns\n",
      " Index(['item_id', 'brand', 'item_name', 'color', 'product_type', 'style',\n",
      "       'main_image_id', 'country', 'marketplace', 'domain_name', 'node_name'],\n",
      "      dtype='object')\n",
      "\n",
      "\n",
      "Data 2 columns\n",
      " Index(['image_id', 'height', 'width', 'path', 'asin', 'brand', 'color',\n",
      "       'product_type'],\n",
      "      dtype='object')\n",
      "\n",
      "\n",
      "Data 3 columns\n",
      " Index(['image_id', 'height', 'width', 'path'], dtype='object')\n"
     ]
    }
   ],
   "source": [
    "\n",
    "print(\"Data 1 columns\\n\",data1.columns)\n",
    "print(\"\\n\\nData 2 columns\\n\", data2.columns)\n",
    "print(\"\\n\\nData 3 columns\\n\",data3.columns)\n"
   ]
  },
  {
   "cell_type": "code",
   "execution_count": null,
   "id": "f8f94d40",
   "metadata": {},
   "outputs": [],
   "source": [
    "import pandas as pd\n",
    "\n",
    "checking2 = pd.DataFrame({\n",
    "    \"image_id_0\": data1['item_id'],##all json merged\n",
    "    \"image_id_1\": data2[\"image_id\"],##merge_..._list.csv\n",
    "    \"image_id_2\": data3[\"image_id\"]#images.csv\n",
    "})\n",
    "#checking2\n"
   ]
  },
  {
   "cell_type": "code",
   "execution_count": null,
   "id": "5af9768c",
   "metadata": {},
   "outputs": [],
   "source": [
    "checking2[\"has_match\"] = checking2[\"image_id_0\"].isin(checking2[\"image_id_2\"])\n",
    "checking2[\"reverse_match\"] = checking2[\"image_id_2\"].isin(checking2[\"image_id_0\"])\n",
    "checking2[\"has_match1\"] = checking2[\"image_id_0\"].isin(checking2[\"image_id_1\"])\n",
    "checking2[\"reverse_match1\"] = checking2[\"image_id_2\"].isin(checking2[\"image_id_0\"])\n"
   ]
  },
  {
   "cell_type": "code",
   "execution_count": null,
   "id": "1a7cf120",
   "metadata": {},
   "outputs": [
    {
     "data": {
      "text/plain": [
       "(0, 312483, 312483, 0)"
      ]
     },
     "execution_count": 49,
     "metadata": {},
     "output_type": "execute_result"
    }
   ],
   "source": [
    "len(checking2[checking2[\"has_match1\"]==True]),len(checking2[checking2[\"reverse_match\"]==True]), len(checking2[checking2[\"reverse_match1\"]==True]),len(checking2[checking2[\"has_match1\"]==True]) "
   ]
  },
  {
   "cell_type": "code",
   "execution_count": null,
   "id": "c5376bfb",
   "metadata": {},
   "outputs": [
    {
     "data": {
      "text/html": [
       "<div>\n",
       "<style scoped>\n",
       "    .dataframe tbody tr th:only-of-type {\n",
       "        vertical-align: middle;\n",
       "    }\n",
       "\n",
       "    .dataframe tbody tr th {\n",
       "        vertical-align: top;\n",
       "    }\n",
       "\n",
       "    .dataframe thead th {\n",
       "        text-align: right;\n",
       "    }\n",
       "</style>\n",
       "<table border=\"1\" class=\"dataframe\">\n",
       "  <thead>\n",
       "    <tr style=\"text-align: right;\">\n",
       "      <th></th>\n",
       "      <th>image_id_0</th>\n",
       "      <th>image_id_1</th>\n",
       "      <th>image_id_2</th>\n",
       "      <th>has_match</th>\n",
       "      <th>reverse_match</th>\n",
       "      <th>has_match1</th>\n",
       "      <th>reverse_match1</th>\n",
       "    </tr>\n",
       "  </thead>\n",
       "  <tbody>\n",
       "    <tr>\n",
       "      <th>398212</th>\n",
       "      <td>NaN</td>\n",
       "      <td>71TJIdmv-7L</td>\n",
       "      <td>NaN</td>\n",
       "      <td>True</td>\n",
       "      <td>True</td>\n",
       "      <td>False</td>\n",
       "      <td>True</td>\n",
       "    </tr>\n",
       "    <tr>\n",
       "      <th>398213</th>\n",
       "      <td>NaN</td>\n",
       "      <td>71TJJ-32NCL</td>\n",
       "      <td>NaN</td>\n",
       "      <td>True</td>\n",
       "      <td>True</td>\n",
       "      <td>False</td>\n",
       "      <td>True</td>\n",
       "    </tr>\n",
       "    <tr>\n",
       "      <th>398214</th>\n",
       "      <td>NaN</td>\n",
       "      <td>71TJJ4fiiHL</td>\n",
       "      <td>NaN</td>\n",
       "      <td>True</td>\n",
       "      <td>True</td>\n",
       "      <td>False</td>\n",
       "      <td>True</td>\n",
       "    </tr>\n",
       "    <tr>\n",
       "      <th>398215</th>\n",
       "      <td>NaN</td>\n",
       "      <td>71TJOABqcbL</td>\n",
       "      <td>NaN</td>\n",
       "      <td>True</td>\n",
       "      <td>True</td>\n",
       "      <td>False</td>\n",
       "      <td>True</td>\n",
       "    </tr>\n",
       "    <tr>\n",
       "      <th>398216</th>\n",
       "      <td>NaN</td>\n",
       "      <td>71TJPD5XGqL</td>\n",
       "      <td>NaN</td>\n",
       "      <td>True</td>\n",
       "      <td>True</td>\n",
       "      <td>False</td>\n",
       "      <td>True</td>\n",
       "    </tr>\n",
       "    <tr>\n",
       "      <th>...</th>\n",
       "      <td>...</td>\n",
       "      <td>...</td>\n",
       "      <td>...</td>\n",
       "      <td>...</td>\n",
       "      <td>...</td>\n",
       "      <td>...</td>\n",
       "      <td>...</td>\n",
       "    </tr>\n",
       "    <tr>\n",
       "      <th>710690</th>\n",
       "      <td>NaN</td>\n",
       "      <td>B1zv8OpTkBS</td>\n",
       "      <td>NaN</td>\n",
       "      <td>True</td>\n",
       "      <td>True</td>\n",
       "      <td>False</td>\n",
       "      <td>True</td>\n",
       "    </tr>\n",
       "    <tr>\n",
       "      <th>710691</th>\n",
       "      <td>NaN</td>\n",
       "      <td>B1zwflWhPIS</td>\n",
       "      <td>NaN</td>\n",
       "      <td>True</td>\n",
       "      <td>True</td>\n",
       "      <td>False</td>\n",
       "      <td>True</td>\n",
       "    </tr>\n",
       "    <tr>\n",
       "      <th>710692</th>\n",
       "      <td>NaN</td>\n",
       "      <td>C1lf45DhhRS</td>\n",
       "      <td>NaN</td>\n",
       "      <td>True</td>\n",
       "      <td>True</td>\n",
       "      <td>False</td>\n",
       "      <td>True</td>\n",
       "    </tr>\n",
       "    <tr>\n",
       "      <th>710693</th>\n",
       "      <td>NaN</td>\n",
       "      <td>C1pEt6jBLiS</td>\n",
       "      <td>NaN</td>\n",
       "      <td>True</td>\n",
       "      <td>True</td>\n",
       "      <td>False</td>\n",
       "      <td>True</td>\n",
       "    </tr>\n",
       "    <tr>\n",
       "      <th>710694</th>\n",
       "      <td>NaN</td>\n",
       "      <td>C1sCYAz8NAS</td>\n",
       "      <td>NaN</td>\n",
       "      <td>True</td>\n",
       "      <td>True</td>\n",
       "      <td>False</td>\n",
       "      <td>True</td>\n",
       "    </tr>\n",
       "  </tbody>\n",
       "</table>\n",
       "<p>312483 rows × 7 columns</p>\n",
       "</div>"
      ],
      "text/plain": [
       "       image_id_0   image_id_1 image_id_2  has_match  reverse_match  \\\n",
       "398212        NaN  71TJIdmv-7L        NaN       True           True   \n",
       "398213        NaN  71TJJ-32NCL        NaN       True           True   \n",
       "398214        NaN  71TJJ4fiiHL        NaN       True           True   \n",
       "398215        NaN  71TJOABqcbL        NaN       True           True   \n",
       "398216        NaN  71TJPD5XGqL        NaN       True           True   \n",
       "...           ...          ...        ...        ...            ...   \n",
       "710690        NaN  B1zv8OpTkBS        NaN       True           True   \n",
       "710691        NaN  B1zwflWhPIS        NaN       True           True   \n",
       "710692        NaN  C1lf45DhhRS        NaN       True           True   \n",
       "710693        NaN  C1pEt6jBLiS        NaN       True           True   \n",
       "710694        NaN  C1sCYAz8NAS        NaN       True           True   \n",
       "\n",
       "        has_match1  reverse_match1  \n",
       "398212       False            True  \n",
       "398213       False            True  \n",
       "398214       False            True  \n",
       "398215       False            True  \n",
       "398216       False            True  \n",
       "...            ...             ...  \n",
       "710690       False            True  \n",
       "710691       False            True  \n",
       "710692       False            True  \n",
       "710693       False            True  \n",
       "710694       False            True  \n",
       "\n",
       "[312483 rows x 7 columns]"
      ]
     },
     "execution_count": 50,
     "metadata": {},
     "output_type": "execute_result"
    }
   ],
   "source": [
    "checking2[checking2[\"reverse_match\"]==True]"
   ]
  },
  {
   "cell_type": "code",
   "execution_count": null,
   "id": "bfccd733",
   "metadata": {},
   "outputs": [],
   "source": [
    "import pandas as pd\n",
    "\n",
    "checking = pd.DataFrame({\n",
    "    \"image_id_0\": data1['main_image_id'],\n",
    "    \"image_id_1\": data2[\"image_id\"], #merged \n",
    "    \"image_id_2\": data3[\"image_id\"] #images\n",
    "})\n",
    "\n"
   ]
  },
  {
   "cell_type": "code",
   "execution_count": null,
   "id": "8ce32acc",
   "metadata": {},
   "outputs": [],
   "source": [
    "checking[\"has_match\"] = checking[\"image_id_0\"].isin(checking[\"image_id_2\"])\n",
    "checking[\"reverse_match\"] = checking[\"image_id_2\"].isin(checking[\"image_id_0\"])\n",
    "checking[\"has_match1\"] = checking[\"image_id_0\"].isin(checking[\"image_id_1\"])\n",
    "checking[\"reverse_match1\"] = checking[\"image_id_2\"].isin(checking[\"image_id_0\"])\n"
   ]
  },
  {
   "cell_type": "code",
   "execution_count": null,
   "id": "c4cbbe7c",
   "metadata": {},
   "outputs": [
    {
     "data": {
      "text/plain": [
       "(147127, 435994, 435994, 147127)"
      ]
     },
     "execution_count": 51,
     "metadata": {},
     "output_type": "execute_result"
    }
   ],
   "source": [
    "len(checking[checking[\"has_match1\"]==True]),len(checking[checking[\"reverse_match\"]==True]), len(checking[checking[\"reverse_match1\"]==True]),len(checking[checking[\"has_match1\"]==True]) "
   ]
  },
  {
   "cell_type": "code",
   "execution_count": null,
   "id": "bef02543",
   "metadata": {},
   "outputs": [
    {
     "data": {
      "text/plain": [
       "Index(['item_id', 'brand', 'item_name', 'color', 'product_type', 'style',\n",
       "       'main_image_id', 'country', 'marketplace', 'domain_name', 'node_name'],\n",
       "      dtype='object')"
      ]
     },
     "execution_count": 14,
     "metadata": {},
     "output_type": "execute_result"
    }
   ],
   "source": [
    "data1.columns"
   ]
  },
  {
   "cell_type": "code",
   "execution_count": null,
   "id": "e8fc65be",
   "metadata": {},
   "outputs": [
    {
     "data": {
      "text/plain": [
       "0         81qMxl2CVIL\n",
       "1         81QO6VeWJWL\n",
       "2         61NAICfnB6L\n",
       "3         613w17ik6wL\n",
       "4         91rJDoE+k8L\n",
       "             ...     \n",
       "147697    71UKgLZ+kuL\n",
       "147698    719hbtWeTDL\n",
       "147699    61TS4ISi1vL\n",
       "147700    81DUhoIIZjL\n",
       "147701    81pMc4G8VaS\n",
       "Name: main_image_id, Length: 147702, dtype: object"
      ]
     },
     "execution_count": 18,
     "metadata": {},
     "output_type": "execute_result"
    }
   ],
   "source": [
    "data1['main_image_id']"
   ]
  }
 ],
 "metadata": {
  "kernelspec": {
   "display_name": "myenv",
   "language": "python",
   "name": "python3"
  },
  "language_info": {
   "codemirror_mode": {
    "name": "ipython",
    "version": 3
   },
   "file_extension": ".py",
   "mimetype": "text/x-python",
   "name": "python",
   "nbconvert_exporter": "python",
   "pygments_lexer": "ipython3",
   "version": "3.12.7"
  }
 },
 "nbformat": 4,
 "nbformat_minor": 5
}
